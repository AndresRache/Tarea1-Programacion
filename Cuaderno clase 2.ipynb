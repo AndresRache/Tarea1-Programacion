{
 "cells": [
  {
   "cell_type": "code",
   "execution_count": 3,
   "id": "c22a9f63-d148-433b-a614-abaa253a8fb3",
   "metadata": {},
   "outputs": [
    {
     "name": "stdout",
     "output_type": "stream",
     "text": [
      "Nombres de las variables: ['sepal.length', 'sepal.width', 'petal.length', 'petal.width', 'variety']\n"
     ]
    },
    {
     "data": {
      "image/png": "[encoded data removed]",
      "text/plain": [
       "<Figure size 640x480 with 1 Axes>"
      ]
     },
     "metadata": {},
     "output_type": "display_data"
    },
    {
     "name": "stdout",
     "output_type": "stream",
     "text": [
      "Estadísticas para 'sepal.length':\n",
      "Media: 5.843333333333334\n",
      "Mediana: 5.8\n",
      "Desviación Estándar: 0.8253012917851409\n",
      "Percentil 25 (q25): 5.1\n",
      "Percentil 50 (q50): 5.8\n",
      "Percentil 75 (q75): 6.4\n",
      "\n",
      "Estadísticas descriptivas básicas para todas las variables:\n",
      "       sepal.length  sepal.width  petal.length  petal.width\n",
      "count    150.000000   150.000000    150.000000   150.000000\n",
      "mean       5.843333     3.057333      3.758000     1.199333\n",
      "std        0.828066     0.435866      1.765298     0.762238\n",
      "min        4.300000     2.000000      1.000000     0.100000\n",
      "25%        5.100000     2.800000      1.600000     0.300000\n",
      "50%        5.800000     3.000000      4.350000     1.300000\n",
      "75%        6.400000     3.300000      5.100000     1.800000\n",
      "max        7.900000     4.400000      6.900000     2.500000\n"
     ]
    }
   ],
   "source": [
    "import pandas as pd\n",
    "import numpy as np\n",
    "import matplotlib.pyplot as plt\n",
    "\n",
    "class DataStatistics:\n",
    "    def __init__(self, file_path):\n",
    "        self.data = pd.read_csv(file_path)\n",
    "\n",
    "    def calculate_basic_statistics(self):\n",
    "        return self.data.describe()\n",
    "\n",
    "    def get_variable_names(self):\n",
    "        return list(self.data.columns)\n",
    "\n",
    "    def get_variable_statistics(self, variable_name):\n",
    "        if variable_name in self.data.columns:\n",
    "            variable_data = self.data[variable_name]\n",
    "            stats = {\n",
    "                \"Media\": np.mean(variable_data),\n",
    "                \"Mediana\": np.median(variable_data),\n",
    "                \"Desviación Estándar\": np.std(variable_data),\n",
    "                \"Percentil 25 (q25)\": np.percentile(variable_data, 25),\n",
    "                \"Percentil 50 (q50)\": np.percentile(variable_data, 50),\n",
    "                \"Percentil 75 (q75)\": np.percentile(variable_data, 75),\n",
    "            }\n",
    "            # Dibujar un histograma\n",
    "            plt.hist(variable_data, bins=10, color='blue', alpha=0.7)\n",
    "            plt.title(f'Distribución de {variable_name}')\n",
    "            plt.xlabel(variable_name)\n",
    "            plt.ylabel('Frecuencia')\n",
    "            plt.show()\n",
    "            return stats\n",
    "        else:\n",
    "            return \"La variable no existe en el DataFrame.\"\n",
    "\n",
    "# Uso de la clase\n",
    "if __name__ == \"__main__\":\n",
    "    data_stats = DataStatistics(\"iris.csv\")\n",
    "\n",
    "    # Obtener los nombres de las variables\n",
    "    variable_names = data_stats.get_variable_names()\n",
    "    print(\"Nombres de las variables:\", variable_names)\n",
    "\n",
    "    # Calcular estadísticas básicas para una variable (por ejemplo, 'sepal.length')\n",
    "    variable_name = 'sepal.length'\n",
    "    variable_stats = data_stats.get_variable_statistics(variable_name)\n",
    "    print(f\"Estadísticas para '{variable_name}':\")\n",
    "    for stat_name, value in variable_stats.items():\n",
    "        print(f\"{stat_name}: {value}\")\n",
    "\n",
    "    # Calcular estadísticas descriptivas básicas para todas las variables\n",
    "    all_stats = data_stats.calculate_basic_statistics()\n",
    "    print(\"\\nEstadísticas descriptivas básicas para todas las variables:\")\n",
    "    print(all_stats)\n"
   ]
  }
 ],
 "metadata": {
  "kernelspec": {
   "display_name": "Python 3 (ipykernel)",
   "language": "python",
   "name": "python3"
  },
  "language_info": {
   "codemirror_mode": {
    "name": "ipython",
    "version": 3
   },
   "file_extension": ".py",
   "mimetype": "text/x-python",
   "name": "python",
   "nbconvert_exporter": "python",
   "pygments_lexer": "ipython3",
   "version": "3.10.9"
  }
 },
 "nbformat": 4,
 "nbformat_minor": 5
}
